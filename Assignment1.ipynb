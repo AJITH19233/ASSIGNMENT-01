{
  "nbformat": 4,
  "nbformat_minor": 0,
  "metadata": {
    "colab": {
      "provenance": []
    },
    "kernelspec": {
      "name": "python3",
      "display_name": "Python 3"
    },
    "language_info": {
      "name": "python"
    }
  },
  "cells": [
    {
      "cell_type": "markdown",
      "source": [
        "Q1."
      ],
      "metadata": {
        "id": "gEdW6zKd2OyA"
      }
    },
    {
      "cell_type": "code",
      "source": [
        "n=input(\"ENTER YOUR NAME:\")\n",
        "r=input(\"ENTER YOUR ROLL_NO\")\n",
        "m=input(\"ENTER YOUR MARK\")\n",
        "print(\"NAME=\"+n)\n",
        "print(\"ROLL_NO=\"+r)\n",
        "print(\"MARK=\"+m)\n"
      ],
      "metadata": {
        "colab": {
          "base_uri": "https://localhost:8080/"
        },
        "id": "an5ZWHlm2Qbh",
        "outputId": "82c1abfa-5d61-40f8-e7b3-06fe80b7397c"
      },
      "execution_count": null,
      "outputs": [
        {
          "output_type": "stream",
          "name": "stdout",
          "text": [
            "ENTER YOUR NAME:Anisha\n",
            "ENTER YOUR ROLL_NO21\n",
            "ENTER YOUR MARK78\n",
            "NAME=Anisha\n",
            "ROLL_NO=21\n",
            "MARK=78\n"
          ]
        }
      ]
    },
    {
      "cell_type": "markdown",
      "source": [
        "Q2."
      ],
      "metadata": {
        "id": "MOlBPaUB3oOz"
      }
    },
    {
      "cell_type": "code",
      "source": [
        "farenheit=float(input(\"Temperature in farenheit\"))\n",
        "celicius=(farenheit-32)/1.8\n",
        "print(\"temperature in celicius=\",celicius)"
      ],
      "metadata": {
        "colab": {
          "base_uri": "https://localhost:8080/"
        },
        "id": "VKfkQIz_3qey",
        "outputId": "fde6e0fc-5744-4630-eb34-f0a5eba0a5e9"
      },
      "execution_count": null,
      "outputs": [
        {
          "output_type": "stream",
          "name": "stdout",
          "text": [
            "Temperature in farenheit41\n",
            "temperature in celicius= 5.0\n"
          ]
        }
      ]
    },
    {
      "cell_type": "markdown",
      "source": [
        "Q3"
      ],
      "metadata": {
        "id": "TueJMaOx72LH"
      }
    },
    {
      "cell_type": "code",
      "source": [
        "a=int(input(\"Enter a number_1=\"))\n",
        "b=int(input(\"Enter a number_2=\"))\n",
        "c=a*b\n",
        "print(\"product=\",c)"
      ],
      "metadata": {
        "colab": {
          "base_uri": "https://localhost:8080/"
        },
        "id": "CCMztsD575Xk",
        "outputId": "34076028-c8bf-4d9a-bfb5-0977376b729e"
      },
      "execution_count": null,
      "outputs": [
        {
          "output_type": "stream",
          "name": "stdout",
          "text": [
            "Enter a number_1=5\n",
            "Enter a number_2=4\n",
            "product= 20\n"
          ]
        }
      ]
    },
    {
      "cell_type": "markdown",
      "source": [
        "Q4"
      ],
      "metadata": {
        "id": "zgXPDcEO9Un-"
      }
    },
    {
      "cell_type": "code",
      "source": [
        "string=\"Learn Python By Developing a Website\"\n",
        "print(\"Entered String=\",string)\n",
        "add=\"**\"\n",
        "string=string[:5]+add+string[6:]\n",
        "string=string[:13]+add+string[14:]\n",
        "string=string[:29]+add+string[30:]\n",
        "string=string[:40]+add+string[41:]\n",
        "print(string)\n"
      ],
      "metadata": {
        "colab": {
          "base_uri": "https://localhost:8080/"
        },
        "id": "xta6INzZ9Ws3",
        "outputId": "ef6f5ac1-20e7-4e68-9e1b-23165fe473da"
      },
      "execution_count": 6,
      "outputs": [
        {
          "output_type": "stream",
          "name": "stdout",
          "text": [
            "Entered String= Learn Python By Developing a Website\n",
            "Learn**Python**By Developing ** Website**\n"
          ]
        }
      ]
    },
    {
      "cell_type": "markdown",
      "source": [
        "Q5"
      ],
      "metadata": {
        "id": "Xb9f660OBRXb"
      }
    },
    {
      "cell_type": "code",
      "source": [
        "r=float(input(\"Enter the radius=\"))\n",
        "area=3.14*r*r\n",
        "print(\"area of circle=\",area)\n"
      ],
      "metadata": {
        "colab": {
          "base_uri": "https://localhost:8080/"
        },
        "id": "05zryhFpBbEy",
        "outputId": "d6d2c7f0-3493-461f-e702-0fa60424f38f"
      },
      "execution_count": null,
      "outputs": [
        {
          "output_type": "stream",
          "name": "stdout",
          "text": [
            "Enter the radius=5\n",
            "area of circle= 78.5\n"
          ]
        }
      ]
    },
    {
      "cell_type": "markdown",
      "source": [
        "Q6"
      ],
      "metadata": {
        "id": "kbDd6A6WB4rL"
      }
    },
    {
      "cell_type": "code",
      "source": [
        "list1=[1,2,4,5]\n",
        "print(\"LIST=\",list1)\n",
        "n=int(input(\"Enter the number to be inserted=\"))\n",
        "p=int(input(\"Enter the position to be inserted=\"))\n",
        "list1.insert(p,n)\n",
        "print(list1)"
      ],
      "metadata": {
        "colab": {
          "base_uri": "https://localhost:8080/"
        },
        "id": "zUrPkNYOB6jf",
        "outputId": "49ca6da1-b75a-41a5-b19a-901499756885"
      },
      "execution_count": null,
      "outputs": [
        {
          "output_type": "stream",
          "name": "stdout",
          "text": [
            "LIST= [1, 2, 4, 5]\n",
            "Enter the number to be inserted=3\n",
            "Enter the position to be inserted2\n",
            "[1, 2, 3, 4, 5]\n"
          ]
        }
      ]
    },
    {
      "cell_type": "markdown",
      "source": [
        "Q7"
      ],
      "metadata": {
        "id": "jyLKXpxrFJln"
      }
    },
    {
      "cell_type": "code",
      "source": [
        "dict={\"name\":\"John\",\n",
        "      \"age\":5,\n",
        "      \"salary\":8000,\n",
        "      \"city\":\"newyork\"\n",
        "}\n",
        "print(\"without change=\",dict)\n",
        "dict[\"Location\"]=dict.pop('city')\n",
        "print(\"after key value changed=\",dict)"
      ],
      "metadata": {
        "colab": {
          "base_uri": "https://localhost:8080/"
        },
        "id": "nH-ssIyMFLQJ",
        "outputId": "37c6a471-3f7e-4f8a-aa26-83f997158443"
      },
      "execution_count": null,
      "outputs": [
        {
          "output_type": "stream",
          "name": "stdout",
          "text": [
            "without change= {'name': 'John', 'age': 5, 'salary': 8000, 'city': 'newyork'}\n",
            "after key value changed= {'name': 'John', 'age': 5, 'salary': 8000, 'Location': 'newyork'}\n"
          ]
        }
      ]
    },
    {
      "cell_type": "markdown",
      "source": [
        "Q8"
      ],
      "metadata": {
        "id": "eqA1vMytHdsp"
      }
    },
    {
      "cell_type": "code",
      "source": [
        "dict1={\n",
        "    \"emp1\":{\"name\":\"John\",\"salary\":7500},\n",
        "    \"emp2\":{\"name\":\"Emma\",\"salary\":8000},\n",
        "    \"emp3\":{\"name\":\"Brad\",\"salary\":500}\n",
        "}\n",
        "print(\"Without Change=\",dict1)\n",
        "dict1[\"emp3\"][\"salary\"]=8500\n",
        "print(\"After Change=\",dict1)"
      ],
      "metadata": {
        "colab": {
          "base_uri": "https://localhost:8080/"
        },
        "id": "6UmYzNmzHhEO",
        "outputId": "1183e722-d548-4779-cfb9-e5377b8aec0c"
      },
      "execution_count": null,
      "outputs": [
        {
          "output_type": "stream",
          "name": "stdout",
          "text": [
            "Without Change= {'emp1': {'name': 'John', 'salary': 7500}, 'emp2': {'name': 'Emma', 'salary': 8000}, 'emp3': {'name': 'Brad', 'salary': 500}}\n",
            "After Change= {'emp1': {'name': 'John', 'salary': 7500}, 'emp2': {'name': 'Emma', 'salary': 8000}, 'emp3': {'name': 'Brad', 'salary': 8500}}\n"
          ]
        }
      ]
    },
    {
      "cell_type": "markdown",
      "source": [
        "Q9"
      ],
      "metadata": {
        "id": "8kuXx7NFNA1i"
      }
    },
    {
      "cell_type": "code",
      "source": [
        "tuple1=(10,20,43,54,56,68)\n",
        "print(\"First Tuple=\",tuple1)\n",
        "tuple2=tuple1[2:-2]\n",
        "print(\"Second Tuple=\",tuple2)"
      ],
      "metadata": {
        "colab": {
          "base_uri": "https://localhost:8080/"
        },
        "id": "w_NzgeULNCZ1",
        "outputId": "979cb1c8-24ff-48ef-f52b-1daf7103b5eb"
      },
      "execution_count": null,
      "outputs": [
        {
          "output_type": "stream",
          "name": "stdout",
          "text": [
            "First Tuple= (10, 20, 43, 54, 56, 68)\n",
            "Second Tuple= (43, 54)\n"
          ]
        }
      ]
    },
    {
      "cell_type": "markdown",
      "source": [
        "Q10"
      ],
      "metadata": {
        "id": "G4IG4tFvPp2J"
      }
    },
    {
      "cell_type": "code",
      "source": [
        "tuple1=(50,10,60,70,50,83,567,50,81)\n",
        "print(\"Tuple=\",tuple1)\n",
        "count=tuple1.count(50)\n",
        "print(\"Occurrence of 50 in tuple1 is \",count)"
      ],
      "metadata": {
        "colab": {
          "base_uri": "https://localhost:8080/"
        },
        "id": "Nj2mgYnmPryl",
        "outputId": "56a0a533-f797-4bba-fa8b-eb73eb919c6f"
      },
      "execution_count": null,
      "outputs": [
        {
          "output_type": "stream",
          "name": "stdout",
          "text": [
            "Tuple= (50, 10, 60, 70, 50, 83, 567, 50, 81)\n",
            "Occurrence of 50 in tuple1 is  3\n"
          ]
        }
      ]
    }
  ]
}